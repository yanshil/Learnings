{
 "cells": [
  {
   "cell_type": "code",
   "execution_count": null,
   "metadata": {},
   "outputs": [
    {
     "name": "stdout",
     "output_type": "stream",
     "text": [
      "15\n",
      "(0, b'base_to_right_leg', 4, -1, -1, 0, 0.0, 0.0, 0.0, -1.0, 0.0, 0.0, b'right_leg', (0.0, 0.0, 0.0), (0.2199999988079071, 0.0, 0.25), (0.0, -0.7070904013270762, 0.0, 0.7071231606665944), -1)\n"
     ]
    }
   ],
   "source": [
    "import pybullet as p\n",
    "import time\n",
    "import pybullet_data\n",
    "physicsClient = p.connect(p.GUI)#or p.DIRECT for non-graphical version\n",
    "p.setAdditionalSearchPath(pybullet_data.getDataPath()) #optionally\n",
    "p.setGravity(0,0,-10)\n",
    "planeId = p.loadURDF(\"plane.urdf\")\n",
    "cubeStartPos = [0,0,1]\n",
    "cubeStartOrientation = p.getQuaternionFromEuler([0,0,0])\n",
    "boxId = p.loadURDF(\"r2d2.urdf\",cubeStartPos, cubeStartOrientation)\n",
    "\n",
    "print(p.getNumJoints(boxId))\n",
    "print(p.getJointInfo(boxId, 0))\n",
    "\n",
    "for i in range (10000):\n",
    "    p.stepSimulation()\n",
    "    time.sleep(1./240.)\n",
    "cubePos, cubeOrn = p.getBasePositionAndOrientation(boxId)\n",
    "print(cubePos,cubeOrn)\n",
    "p.disconnect()"
   ]
  },
  {
   "cell_type": "code",
   "execution_count": null,
   "metadata": {},
   "outputs": [],
   "source": []
  }
 ],
 "metadata": {
  "kernelspec": {
   "display_name": "Python 3",
   "language": "python",
   "name": "python3"
  },
  "language_info": {
   "codemirror_mode": {
    "name": "ipython",
    "version": 3
   },
   "file_extension": ".py",
   "mimetype": "text/x-python",
   "name": "python",
   "nbconvert_exporter": "python",
   "pygments_lexer": "ipython3",
   "version": "3.6.5"
  }
 },
 "nbformat": 4,
 "nbformat_minor": 2
}
