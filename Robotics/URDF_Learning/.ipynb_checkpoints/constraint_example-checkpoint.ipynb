{
 "cells": [
  {
   "cell_type": "code",
   "execution_count": null,
   "metadata": {},
   "outputs": [
    {
     "name": "stdout",
     "output_type": "stream",
     "text": [
      "1\n",
      "1\n"
     ]
    }
   ],
   "source": [
    "import pybullet as p\n",
    "import time\n",
    "import math\n",
    "\n",
    "import pybullet_data\n",
    "\n",
    "\n",
    "p.connect(p.GUI)\n",
    "p.setAdditionalSearchPath(pybullet_data.getDataPath()) #optionally\n",
    "\n",
    "p.loadURDF(\"plane.urdf\")\n",
    "cubeId = p.loadURDF(\"cube_small.urdf\",0,0,1)\n",
    "p.setGravity(0,0,-10)\n",
    "p.setRealTimeSimulation(1)\n",
    "cid = p.createConstraint(cubeId,-1,-1,-1,p.JOINT_FIXED,[0,0,0],[0,0,0],[0,0,1])\n",
    "print (cid)\n",
    "print (p.getConstraintUniqueId(0))\n",
    "prev=[0,0,1]\n",
    "a=-math.pi\n",
    "while 1:\n",
    "\ta=a+0.01\n",
    "\tif (a>math.pi):\n",
    "\t\ta=-math.pi\n",
    "\ttime.sleep(.01)\n",
    "\tp.setGravity(0,0,-10)\n",
    "\tpivot=[a,0,1]\n",
    "\torn = p.getQuaternionFromEuler([a,0,0])\n",
    "\tp.changeConstraint(cid,pivot,jointChildFrameOrientation=orn, maxForce=50)\n",
    "\n",
    "p.removeConstraint(cid)"
   ]
  },
  {
   "cell_type": "code",
   "execution_count": null,
   "metadata": {},
   "outputs": [],
   "source": []
  }
 ],
 "metadata": {
  "kernelspec": {
   "display_name": "Python 3",
   "language": "python",
   "name": "python3"
  },
  "language_info": {
   "codemirror_mode": {
    "name": "ipython",
    "version": 3
   },
   "file_extension": ".py",
   "mimetype": "text/x-python",
   "name": "python",
   "nbconvert_exporter": "python",
   "pygments_lexer": "ipython3",
   "version": "3.6.5"
  }
 },
 "nbformat": 4,
 "nbformat_minor": 2
}
