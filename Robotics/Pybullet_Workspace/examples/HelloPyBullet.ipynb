{
 "cells": [
  {
   "cell_type": "code",
   "execution_count": 1,
   "metadata": {},
   "outputs": [
    {
     "name": "stdout",
     "output_type": "stream",
     "text": [
      "13\n",
      "(0, b'base_cylinder_1', 0, 7, 6, 1, 0.0, 0.0, -1.57, 1.57, 10.0, 3.0, b'cylinder_1', (0.0, 0.0, 1.0), (0.0, 0.0, 0.0), (0.0, 0.0, 0.0, 1.0), -1)\n",
      "(-0.007904059013309367, 0.0256144099856858, 0.15345472559065193) (-0.02681236875855182, 0.00028418817842131917, -0.010593977992221084, 0.9995843054734979)\n"
     ]
    }
   ],
   "source": [
    "import pybullet as p\n",
    "import time\n",
    "import pybullet_data\n",
    "physicsClient = p.connect(p.GUI)#or p.DIRECT for non-graphical version\n",
    "p.setAdditionalSearchPath(pybullet_data.getDataPath()) #optionally\n",
    "\n",
    "p.setGravity(0,0,-10)\n",
    "planeId = p.loadURDF(\"plane.urdf\")\n",
    "cubeStartPos = [0,0,1]\n",
    "cubeStartOrientation = p.getQuaternionFromEuler([0,0,0])\n",
    "\n",
    "boxId = p.loadURDF(\"Fig_2_25_Stanford_manipulator.urdf\",cubeStartPos, cubeStartOrientation)\n",
    "\n",
    "print(p.getNumJoints(boxId))\n",
    "print(p.getJointInfo(boxId, 0))\n",
    "\n",
    "for i in range (10000):\n",
    "    p.stepSimulation()\n",
    "    time.sleep(1./240.)\n",
    "cubePos, cubeOrn = p.getBasePositionAndOrientation(boxId)\n",
    "print(cubePos,cubeOrn)\n",
    "p.disconnect()"
   ]
  },
  {
   "cell_type": "code",
   "execution_count": null,
   "metadata": {},
   "outputs": [],
   "source": []
  }
 ],
 "metadata": {
  "kernelspec": {
   "display_name": "Python 3",
   "language": "python",
   "name": "python3"
  },
  "language_info": {
   "codemirror_mode": {
    "name": "ipython",
    "version": 3
   },
   "file_extension": ".py",
   "mimetype": "text/x-python",
   "name": "python",
   "nbconvert_exporter": "python",
   "pygments_lexer": "ipython3",
   "version": "3.6.5"
  }
 },
 "nbformat": 4,
 "nbformat_minor": 2
}
