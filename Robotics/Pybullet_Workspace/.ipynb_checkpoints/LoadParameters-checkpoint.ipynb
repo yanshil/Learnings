{
 "cells": [
  {
   "cell_type": "code",
   "execution_count": null,
   "metadata": {},
   "outputs": [
    {
     "name": "stdout",
     "output_type": "stream",
     "text": [
      "(0, b'base_joint', 0, 7, 6, 1, 0.0, 0.0, -1.57, 1.57, 10.0, 3.0, b'first_cylinder', (0.0, 0.0, 1.0), (0.0, 0.0, 0.0), (0.0, 0.0, 0.0, 1.0), -1)\n",
      "(1, b'joint_c1_arm1', 4, -1, -1, 0, 0.0, 0.0, 0.0, -1.0, 0.0, 0.0, b'arm_1', (0.0, 0.0, 0.0), (0.0, 0.15000000596046448, 0.0), (0.0, 0.0, 0.0, 1.0), 0)\n",
      "(2, b'joint_arm1_c2', 0, 8, 7, 1, 0.0, 0.0, 0.0, 1.57, 10.0, 3.0, b'second_cylinder', (0.0, 0.0, 1.0), (0.0, 0.15000000596046448, 0.0), (0.0, 0.0, 0.7068251996573613, 0.7073882506299715), 1)\n",
      "(3, b'joint_c2_arm2', 4, -1, -1, 0, 0.0, 0.0, 0.0, -1.0, 0.0, 0.0, b'arm_2', (0.0, 0.0, 0.0), (0.0, 0.15000000596046448, 0.0), (0.0, 0.0, 0.0, 1.0), 2)\n",
      "(4, b'joint_arm2_c3', 0, 9, 8, 1, 0.0, 0.0, 0.0, 1.57, 10.0, 3.0, b'third_cylinder', (0.0, 0.0, 1.0), (0.0, 0.15000000596046448, 0.0), (0.0, 0.0, 0.7068251996573613, 0.7073882506299715), 3)\n",
      "(5, b'joint_c3_arm3', 4, -1, -1, 0, 0.0, 0.0, 0.0, -1.0, 0.0, 0.0, b'arm_3', (0.0, 0.0, 0.0), (0.0, 0.15000000596046448, 0.0), (0.0, 0.0, 0.0, 1.0), 4)\n",
      "(6, b'joint_arm3_c4', 4, -1, -1, 0, 0.0, 0.0, 0.0, -1.0, 0.0, 0.0, b'forth_cylinder', (0.0, 0.0, 0.0), (0.0, 0.15000000596046448, 0.0), (0.0, 0.0, 0.0, 1.0), 5)\n",
      "(7, b'joint_c4_arm4', 4, -1, -1, 0, 0.0, 0.0, 0.0, -1.0, 0.0, 0.0, b'arm_4', (0.0, 0.0, 0.0), (0.0, 0.15000000596046448, 0.0), (0.0, 0.0, 0.0, 1.0), 6)\n",
      "(8, b'base_joint_prime', 0, 10, 9, 1, 0.0, 0.0, -1.57, 1.57, 10.0, 3.0, b'first_cylinder_prime', (0.0, 0.0, 1.0), (0.0, 0.0, 0.0), (0.0, 0.0, 0.0, 1.0), -1)\n",
      "(9, b'joint_c1_prime_arm1_prime', 4, -1, -1, 0, 0.0, 0.0, -1.57, 1.57, 10.0, 3.0, b'arm_1_prime', (0.0, 0.0, 0.0), (0.15000000596046448, 0.0, 0.0), (0.0, 0.0, 0.0, 1.0), 8)\n",
      "(10, b'joint_arm_prime_c4_prime', 4, -1, -1, 0, 0.0, 0.0, 0.0, -1.0, 0.0, 0.0, b'forth_cylinder_prime', (0.0, 0.0, 0.0), (0.15000000596046448, 0.0, 0.0), (0.0, 0.0, 0.0, 1.0), 9)\n"
     ]
    }
   ],
   "source": [
    "import pybullet as p\n",
    "import time\n",
    "import pybullet_data\n",
    "\n",
    "p.connect(p.GUI)\n",
    "p.setAdditionalSearchPath(pybullet_data.getDataPath()) #optionally\n",
    "\n",
    "planeId = p.loadURDF(\"plane.urdf\")\n",
    "objectID = p.loadURDF(\"Fig2_21_Parallelogram_arm.urdf\")\n",
    "# objectID = obUids[1]\n",
    "\n",
    "gravId = p.addUserDebugParameter(\"gravity\",-10,10,-10)\n",
    "jointIds=[]\n",
    "paramIds=[]\n",
    "\n",
    "p.setPhysicsEngineParameter(numSolverIterations=10)\n",
    "p.changeDynamics(objectID,-1,linearDamping=0, angularDamping=0)\n",
    "\n",
    "# cid = p.createConstraint(objectID,-1,-1,-1,p.JOINT_FIXED,[0,0,0],[0,0,0],[0,0,1])\n",
    "# base_joint = jointNameToId['base_joint']\n",
    "# base_joint_prime = jointNameToId['base_joint_prime']\n",
    "\n",
    "\n",
    "\n",
    "jointNameToId = {}\n",
    "\n",
    "for j in range (p.getNumJoints(objectID)):\n",
    "\tp.changeDynamics(objectID,j,linearDamping=0, angularDamping=0)\n",
    "\tinfo = p.getJointInfo(objectID,j)\n",
    "\tjointNameToId[info[1].decode('UTF-8')] = info[0]\n",
    "\tprint(info)\n",
    "\tjointName = info[1]\n",
    "\tjointType = info[2]\n",
    "\tif (jointType==p.JOINT_PRISMATIC or jointType==p.JOINT_REVOLUTE):\n",
    "\t\tjointIds.append(j)\n",
    "\t\tparamIds.append(p.addUserDebugParameter(jointName.decode(\"utf-8\"),-4,4,0))\n",
    "\n",
    "p.setRealTimeSimulation(1)\n",
    "\n",
    "# base_joint = jointNameToId['base_joint']\n",
    "# base_joint_prime = jointNameToId['base_joint_prime']\n",
    "# joint_arm_prime_c4_prime = jointNameToId['joint_arm_prime_c4_prime']\n",
    "# joint_arm3_c4 = jointNameToId['joint_arm3_c4']\n",
    "# joint_arm1_c2 = jointNameToId['joint_arm1_c2']\n",
    "# joint_arm2_c3 = jointNameToId['joint_arm2_c3']\n",
    "\n",
    "# # jointAxis in child frame, parentFramePosition, childFramePosition\n",
    "# cid = p.createConstraint(objectID, base_joint, objectID, joint_arm1_c2, p.JOINT_POINT2POINT, [0,0,0],[0,0,0],[0,0,0])\n",
    "# cid = p.createConstraint(objectID, base_joint, objectID, joint_arm1_c2, p.JOINT_POINT2POINT, [0,0,0],[0,-0.15,0],[0,0,0])\n",
    "# cid = p.createConstraint(objectID, joint_arm3_c4, objectID, joint_arm_prime_c4_prime, p.JOINT_FIXED, [0,0,0],[0,0,0],[0,0,0])\n",
    "\n",
    "while(1):\n",
    "\tp.setGravity(0,0,p.readUserDebugParameter(gravId))\n",
    "\tfor i in range(len(paramIds)):\n",
    "\t\tc = paramIds[i]\n",
    "\t\ttargetPos = p.readUserDebugParameter(c)\n",
    "\t\tp.setJointMotorControl2(objectID,jointIds[i],p.POSITION_CONTROL,targetPos, force=5*240.)\n",
    "\ttime.sleep(0.01)"
   ]
  },
  {
   "cell_type": "code",
   "execution_count": null,
   "metadata": {},
   "outputs": [],
   "source": []
  }
 ],
 "metadata": {
  "kernelspec": {
   "display_name": "Python 3",
   "language": "python",
   "name": "python3"
  },
  "language_info": {
   "codemirror_mode": {
    "name": "ipython",
    "version": 3
   },
   "file_extension": ".py",
   "mimetype": "text/x-python",
   "name": "python",
   "nbconvert_exporter": "python",
   "pygments_lexer": "ipython3",
   "version": "3.6.5"
  }
 },
 "nbformat": 4,
 "nbformat_minor": 2
}
