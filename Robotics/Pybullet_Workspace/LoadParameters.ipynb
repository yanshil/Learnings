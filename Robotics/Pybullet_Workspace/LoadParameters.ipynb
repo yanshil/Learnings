{
 "cells": [
  {
   "cell_type": "code",
   "execution_count": null,
   "metadata": {},
   "outputs": [],
   "source": [
    "import pybullet as p\n",
    "import time\n",
    "import pybullet_data\n",
    "\n",
    "p.connect(p.GUI)\n",
    "p.setAdditionalSearchPath(pybullet_data.getDataPath()) #optionally\n",
    "\n",
    "planeId = p.loadURDF(\"plane.urdf\")\n",
    "objectID = p.loadURDF(\"Fig_2_25_Stanford_manipulator.urdf\")\n",
    "# objectID = obUids[1]\n",
    "\n",
    "gravId = p.addUserDebugParameter(\"gravity\",-10,10,-10)\n",
    "jointIds=[]\n",
    "paramIds=[]\n",
    "\n",
    "p.setPhysicsEngineParameter(numSolverIterations=10)\n",
    "p.changeDynamics(objectID,-1,linearDamping=0, angularDamping=0)\n",
    "\n",
    "for j in range (p.getNumJoints(objectID)):\n",
    "\tp.changeDynamics(objectID,j,linearDamping=0, angularDamping=0)\n",
    "\tinfo = p.getJointInfo(objectID,j)\n",
    "\t#print(info)\n",
    "\tjointName = info[1]\n",
    "\tjointType = info[2]\n",
    "\tif (jointType==p.JOINT_PRISMATIC or jointType==p.JOINT_REVOLUTE):\n",
    "\t\tjointIds.append(j)\n",
    "\t\tparamIds.append(p.addUserDebugParameter(jointName.decode(\"utf-8\"),-4,4,0))\n",
    "\n",
    "p.setRealTimeSimulation(1)\n",
    "while(1):\n",
    "\tp.setGravity(0,0,p.readUserDebugParameter(gravId))\n",
    "\tfor i in range(len(paramIds)):\n",
    "\t\tc = paramIds[i]\n",
    "\t\ttargetPos = p.readUserDebugParameter(c)\n",
    "\t\tp.setJointMotorControl2(objectID,jointIds[i],p.POSITION_CONTROL,targetPos, force=5*240.)\n",
    "\ttime.sleep(0.01)"
   ]
  },
  {
   "cell_type": "code",
   "execution_count": null,
   "metadata": {},
   "outputs": [],
   "source": []
  }
 ],
 "metadata": {
  "kernelspec": {
   "display_name": "Python 3",
   "language": "python",
   "name": "python3"
  },
  "language_info": {
   "codemirror_mode": {
    "name": "ipython",
    "version": 3
   },
   "file_extension": ".py",
   "mimetype": "text/x-python",
   "name": "python",
   "nbconvert_exporter": "python",
   "pygments_lexer": "ipython3",
   "version": "3.6.5"
  }
 },
 "nbformat": 4,
 "nbformat_minor": 2
}
